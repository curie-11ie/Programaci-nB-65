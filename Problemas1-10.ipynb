{
  "nbformat": 4,
  "nbformat_minor": 0,
  "metadata": {
    "colab": {
      "provenance": [],
      "authorship_tag": "ABX9TyPz2INsTCh+KMP+AqRY9FKV",
      "include_colab_link": true
    },
    "kernelspec": {
      "name": "python3",
      "display_name": "Python 3"
    },
    "language_info": {
      "name": "python"
    }
  },
  "cells": [
    {
      "cell_type": "markdown",
      "metadata": {
        "id": "view-in-github",
        "colab_type": "text"
      },
      "source": [
        "<a href=\"https://colab.research.google.com/github/curie-11ie/Programaci-nB-65/blob/main/Problemas1-10.ipynb\" target=\"_parent\"><img src=\"https://colab.research.google.com/assets/colab-badge.svg\" alt=\"Open In Colab\"/></a>"
      ]
    },
    {
      "cell_type": "markdown",
      "source": [
        "# problema 1"
      ],
      "metadata": {
        "id": "fmW7Wo7FxjKo"
      }
    },
    {
      "cell_type": "code",
      "source": [
        "print(\"hola mundo\")"
      ],
      "metadata": {
        "colab": {
          "base_uri": "https://localhost:8080/"
        },
        "id": "89skgk3Pxpqi",
        "outputId": "970504b9-58e6-4e6c-f76a-2d2aa82a6f88"
      },
      "execution_count": 2,
      "outputs": [
        {
          "output_type": "stream",
          "name": "stdout",
          "text": [
            "hola mundo\n"
          ]
        }
      ]
    },
    {
      "cell_type": "markdown",
      "source": [
        "# problema 2\n"
      ],
      "metadata": {
        "id": "TZoOPEx-x6gQ"
      }
    },
    {
      "cell_type": "code",
      "source": [
        "num1=float(input(\"Introduce el primer numero: \"))\n",
        "num2=float(input(\"Introduce el segundo numero: \"))\n",
        "operación = input(\"Introduzca operación a realizar: (suma, resta, multiplicación , división) \")\n",
        "resultado = 0\n",
        "if operación == 'suma':\n",
        "  resultado = num1 + num2\n",
        "elif operación == 'resta':\n",
        "  resultado = num1 - num2\n",
        "elif operación == 'multiplicación':\n",
        "    resultado = num1 * num2\n",
        "elif operación  == 'división':\n",
        "      resultado = num1 / num2\n",
        "print(\"El resultado es\", resultado)\n",
        "\n"
      ],
      "metadata": {
        "colab": {
          "base_uri": "https://localhost:8080/"
        },
        "id": "UEk89tpyzZz9",
        "outputId": "d15242c8-2478-461e-d682-6265f7fb36c1"
      },
      "execution_count": 24,
      "outputs": [
        {
          "output_type": "stream",
          "name": "stdout",
          "text": [
            "Introduce el primer numero: 9\n",
            "Introduce el segundo numero: 8\n",
            "Introduzca operación a realizar: (suma, resta, multiplicación , división) suma\n",
            "El resultado es 17.0\n"
          ]
        }
      ]
    },
    {
      "cell_type": "markdown",
      "source": [
        "Problema 3\n"
      ],
      "metadata": {
        "id": "WmwJD6VM49wO"
      }
    },
    {
      "cell_type": "code",
      "source": [],
      "metadata": {
        "id": "3l9DHwk25CXj"
      },
      "execution_count": null,
      "outputs": []
    }
  ]
}