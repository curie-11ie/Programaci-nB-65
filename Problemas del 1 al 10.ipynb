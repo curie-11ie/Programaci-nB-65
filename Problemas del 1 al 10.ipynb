{
  "nbformat": 4,
  "nbformat_minor": 0,
  "metadata": {
    "colab": {
      "provenance": [],
      "authorship_tag": "ABX9TyNNeqEqmIYR8m85KsuSgRlL",
      "include_colab_link": true
    },
    "kernelspec": {
      "name": "python3",
      "display_name": "Python 3"
    },
    "language_info": {
      "name": "python"
    }
  },
  "cells": [
    {
      "cell_type": "markdown",
      "metadata": {
        "id": "view-in-github",
        "colab_type": "text"
      },
      "source": [
        "<a href=\"https://colab.research.google.com/github/curie-11ie/Programaci-nB-65/blob/main/Problemas%20del%201%20al%2010.ipynb\" target=\"_parent\"><img src=\"https://colab.research.google.com/assets/colab-badge.svg\" alt=\"Open In Colab\"/></a>"
      ]
    },
    {
      "cell_type": "markdown",
      "source": [
        "# problema 1"
      ],
      "metadata": {
        "id": "fmW7Wo7FxjKo"
      }
    },
    {
      "cell_type": "code",
      "source": [
        "print(\"hola mundo\")"
      ],
      "metadata": {
        "colab": {
          "base_uri": "https://localhost:8080/"
        },
        "id": "89skgk3Pxpqi",
        "outputId": "970504b9-58e6-4e6c-f76a-2d2aa82a6f88"
      },
      "execution_count": 2,
      "outputs": [
        {
          "output_type": "stream",
          "name": "stdout",
          "text": [
            "hola mundo\n"
          ]
        }
      ]
    },
    {
      "cell_type": "markdown",
      "source": [
        "# problema 2\n"
      ],
      "metadata": {
        "id": "TZoOPEx-x6gQ"
      }
    },
    {
      "cell_type": "code",
      "source": [
        "num1=float(input(\"Introduce el primer numero: \"))\n",
        "num2=float(input(\"Introduce el segundo numero: \"))\n",
        "operación = input(\"Introduzca operación a realizar: (suma, resta, multiplicación , división) \")\n",
        "resultado = 0\n",
        "if operación == 'suma':\n",
        "  resultado = num1 + num2\n",
        "elif operación == 'resta':\n",
        "  resultado = num1 - num2\n",
        "elif operación == 'multiplicación':\n",
        "    resultado = num1 * num2\n",
        "elif operación  == 'división':\n",
        "      resultado = num1 / num2\n",
        "print(\"El resultado es\", resultado)\n",
        "\n"
      ],
      "metadata": {
        "colab": {
          "base_uri": "https://localhost:8080/"
        },
        "id": "UEk89tpyzZz9",
        "outputId": "d15242c8-2478-461e-d682-6265f7fb36c1"
      },
      "execution_count": 24,
      "outputs": [
        {
          "output_type": "stream",
          "name": "stdout",
          "text": [
            "Introduce el primer numero: 9\n",
            "Introduce el segundo numero: 8\n",
            "Introduzca operación a realizar: (suma, resta, multiplicación , división) suma\n",
            "El resultado es 17.0\n"
          ]
        }
      ]
    },
    {
      "cell_type": "markdown",
      "source": [],
      "metadata": {
        "id": "mU32-PVjCtWa"
      }
    },
    {
      "cell_type": "markdown",
      "source": [
        "# Problema 3"
      ],
      "metadata": {
        "id": "owPhnvxLCugK"
      }
    },
    {
      "cell_type": "code",
      "source": [
        "from re import I\n",
        "print(\"Calcular el factorial de un número \")\n",
        "numero = int(input(\"Introduce el numero: \"))\n",
        "factorial = 1\n",
        "i = 1\n",
        "while(i <= numero):\n",
        "  facrorial = factorial * I\n",
        "  i = i + 1\n",
        "print(\"El factorial de \" + str(numero) + \" es \" + str(facrorial))"
      ],
      "metadata": {
        "colab": {
          "base_uri": "https://localhost:8080/"
        },
        "id": "3l9DHwk25CXj",
        "outputId": "0bf0c121-6b46-4472-f6f1-2cf2ca2e270c"
      },
      "execution_count": 29,
      "outputs": [
        {
          "output_type": "stream",
          "name": "stdout",
          "text": [
            "Calcular el factorial de un número \n",
            "Introduce el numero: 5\n",
            "El factorial de 5 es 2\n"
          ]
        }
      ]
    },
    {
      "cell_type": "markdown",
      "source": [
        "\n"
      ],
      "metadata": {
        "id": "m7ReGcjz7DCT"
      }
    },
    {
      "cell_type": "markdown",
      "source": [
        "# Problema 4"
      ],
      "metadata": {
        "id": "UDwCWITZC2JG"
      }
    },
    {
      "cell_type": "code",
      "source": [
        "print (\"Secuencia de Fibonacci\")\n",
        "secuencia = [0 , 1]\n",
        "n = input(\"Introduce un numero entero positivo: \")\n",
        "while(secuencia) < int(n):\n",
        "  secuencia.append(secuencia[-1] + secuencia[-2])\n",
        "print(secuencia)\n"
      ],
      "metadata": {
        "colab": {
          "base_uri": "https://localhost:8080/",
          "height": 245
        },
        "id": "fYPbEXrf7ILH",
        "outputId": "2498b51d-f409-45e8-9a3d-2db385683e83"
      },
      "execution_count": 43,
      "outputs": [
        {
          "name": "stdout",
          "output_type": "stream",
          "text": [
            "Secuencia de Fibonacci\n",
            "Introduce un numero entero positivo: 8\n"
          ]
        },
        {
          "output_type": "error",
          "ename": "TypeError",
          "evalue": "'<' not supported between instances of 'list' and 'int'",
          "traceback": [
            "\u001b[0;31m---------------------------------------------------------------------------\u001b[0m",
            "\u001b[0;31mTypeError\u001b[0m                                 Traceback (most recent call last)",
            "\u001b[0;32m<ipython-input-43-1f6f50d71698>\u001b[0m in \u001b[0;36m<cell line: 0>\u001b[0;34m()\u001b[0m\n\u001b[1;32m      2\u001b[0m \u001b[0msecuencia\u001b[0m \u001b[0;34m=\u001b[0m \u001b[0;34m[\u001b[0m\u001b[0;36m0\u001b[0m \u001b[0;34m,\u001b[0m \u001b[0;36m1\u001b[0m\u001b[0;34m]\u001b[0m\u001b[0;34m\u001b[0m\u001b[0;34m\u001b[0m\u001b[0m\n\u001b[1;32m      3\u001b[0m \u001b[0mn\u001b[0m \u001b[0;34m=\u001b[0m \u001b[0minput\u001b[0m\u001b[0;34m(\u001b[0m\u001b[0;34m\"Introduce un numero entero positivo: \"\u001b[0m\u001b[0;34m)\u001b[0m\u001b[0;34m\u001b[0m\u001b[0;34m\u001b[0m\u001b[0m\n\u001b[0;32m----> 4\u001b[0;31m \u001b[0;32mwhile\u001b[0m\u001b[0;34m(\u001b[0m\u001b[0msecuencia\u001b[0m\u001b[0;34m)\u001b[0m \u001b[0;34m<\u001b[0m \u001b[0mint\u001b[0m\u001b[0;34m(\u001b[0m\u001b[0mn\u001b[0m\u001b[0;34m)\u001b[0m\u001b[0;34m:\u001b[0m\u001b[0;34m\u001b[0m\u001b[0;34m\u001b[0m\u001b[0m\n\u001b[0m\u001b[1;32m      5\u001b[0m   \u001b[0msecuencia\u001b[0m\u001b[0;34m.\u001b[0m\u001b[0mappend\u001b[0m\u001b[0;34m(\u001b[0m\u001b[0msecuencia\u001b[0m\u001b[0;34m[\u001b[0m\u001b[0;34m-\u001b[0m\u001b[0;36m1\u001b[0m\u001b[0;34m]\u001b[0m \u001b[0;34m+\u001b[0m \u001b[0msecuencia\u001b[0m\u001b[0;34m[\u001b[0m\u001b[0;34m-\u001b[0m\u001b[0;36m2\u001b[0m\u001b[0;34m]\u001b[0m\u001b[0;34m)\u001b[0m\u001b[0;34m\u001b[0m\u001b[0;34m\u001b[0m\u001b[0m\n\u001b[1;32m      6\u001b[0m \u001b[0mprint\u001b[0m\u001b[0;34m(\u001b[0m\u001b[0msecuencia\u001b[0m\u001b[0;34m)\u001b[0m\u001b[0;34m\u001b[0m\u001b[0;34m\u001b[0m\u001b[0m\n",
            "\u001b[0;31mTypeError\u001b[0m: '<' not supported between instances of 'list' and 'int'"
          ]
        }
      ]
    },
    {
      "cell_type": "markdown",
      "source": [],
      "metadata": {
        "id": "iVqP0objCWmf"
      }
    },
    {
      "cell_type": "markdown",
      "source": [
        "# Problema 5"
      ],
      "metadata": {
        "id": "mKT188h_DEZz"
      }
    },
    {
      "cell_type": "code",
      "source": [],
      "metadata": {
        "id": "1xwGRzxRZiQi"
      },
      "execution_count": null,
      "outputs": []
    },
    {
      "cell_type": "markdown",
      "source": [
        "# Problema 6"
      ],
      "metadata": {
        "id": "fluGA7u_Fmb_"
      }
    },
    {
      "cell_type": "code",
      "source": [],
      "metadata": {
        "id": "WA9XUsIFFtal"
      },
      "execution_count": null,
      "outputs": []
    },
    {
      "cell_type": "markdown",
      "source": [
        "# Problema 7"
      ],
      "metadata": {
        "id": "lfRZ3CoWQcSH"
      }
    },
    {
      "cell_type": "code",
      "source": [
        "num = int(input(\"Ingrese un número: \"))\n",
        "\n",
        "if num % 2 == 0:\n",
        "    print(num, \"es par.\")\n",
        "else:\n",
        "        print(num, \"es impar.\")"
      ],
      "metadata": {
        "colab": {
          "base_uri": "https://localhost:8080/"
        },
        "id": "odmcaYjeQhGp",
        "outputId": "eba8b6bf-0288-4295-e415-2fff7ae688d9"
      },
      "execution_count": 75,
      "outputs": [
        {
          "output_type": "stream",
          "name": "stdout",
          "text": [
            "Ingrese un número: 5\n",
            "5 es impar.\n"
          ]
        }
      ]
    },
    {
      "cell_type": "markdown",
      "source": [
        "# Problema 8"
      ],
      "metadata": {
        "id": "fNm8Z0pJRZpO"
      }
    },
    {
      "cell_type": "code",
      "source": [
        "pi=3.14\n",
        "radio=float(input(\"Introduzca el radio en cm \\n\"))\n",
        "area=pi*radio**2\n",
        "print(\"El area es:\", area)\n",
        "\n",
        "radio=float(input(\"Introduzca el radio en cm \\n\"))\n",
        "circunferencia= 2*pi*radio\n",
        "print(\"LA circunferencia es\", circunferencia )"
      ],
      "metadata": {
        "colab": {
          "base_uri": "https://localhost:8080/"
        },
        "id": "gW0xb06nRexa",
        "outputId": "240b77b3-b644-41f9-a6fa-b05935a0e804"
      },
      "execution_count": 82,
      "outputs": [
        {
          "output_type": "stream",
          "name": "stdout",
          "text": [
            "Introduzca el radio en cm \n",
            "5\n",
            "El area es: 78.5\n",
            "Introduzca el radio en cm \n",
            "5\n",
            "LA circunferencia es 31.400000000000002\n"
          ]
        }
      ]
    },
    {
      "cell_type": "markdown",
      "source": [
        "# Problema 9"
      ],
      "metadata": {
        "id": "SXZkofljUEuj"
      }
    },
    {
      "cell_type": "code",
      "source": [
        "while(1):\n",
        "  n=int(input('Ingrese numero:'))\n",
        "  if(n<0):\n",
        "    print('EL numero debe ser positivo')\n",
        "else:\n",
        "  if(n==0):\n",
        "    print('El numero es cero')\n",
        "  else:\n",
        "      for i in range(1,n,1):\n",
        "        if(i%2==0):\n",
        "          print(i,' es par')\n"
      ],
      "metadata": {
        "colab": {
          "base_uri": "https://localhost:8080/",
          "height": 408
        },
        "id": "x8t4iWLqUKf6",
        "outputId": "85e88dd2-afde-42c4-823a-3b09f46d1a4b"
      },
      "execution_count": 86,
      "outputs": [
        {
          "name": "stdout",
          "output_type": "stream",
          "text": [
            "Ingrese numero:7\n",
            "Ingrese numero:30\n"
          ]
        },
        {
          "output_type": "error",
          "ename": "KeyboardInterrupt",
          "evalue": "Interrupted by user",
          "traceback": [
            "\u001b[0;31m---------------------------------------------------------------------------\u001b[0m",
            "\u001b[0;31mKeyboardInterrupt\u001b[0m                         Traceback (most recent call last)",
            "\u001b[0;32m<ipython-input-86-8fb468d61711>\u001b[0m in \u001b[0;36m<cell line: 0>\u001b[0;34m()\u001b[0m\n\u001b[1;32m      1\u001b[0m \u001b[0;32mwhile\u001b[0m\u001b[0;34m(\u001b[0m\u001b[0;36m1\u001b[0m\u001b[0;34m)\u001b[0m\u001b[0;34m:\u001b[0m\u001b[0;34m\u001b[0m\u001b[0;34m\u001b[0m\u001b[0m\n\u001b[0;32m----> 2\u001b[0;31m   \u001b[0mn\u001b[0m\u001b[0;34m=\u001b[0m\u001b[0mint\u001b[0m\u001b[0;34m(\u001b[0m\u001b[0minput\u001b[0m\u001b[0;34m(\u001b[0m\u001b[0;34m'Ingrese numero:'\u001b[0m\u001b[0;34m)\u001b[0m\u001b[0;34m)\u001b[0m\u001b[0;34m\u001b[0m\u001b[0;34m\u001b[0m\u001b[0m\n\u001b[0m\u001b[1;32m      3\u001b[0m   \u001b[0;32mif\u001b[0m\u001b[0;34m(\u001b[0m\u001b[0mn\u001b[0m\u001b[0;34m<\u001b[0m\u001b[0;36m0\u001b[0m\u001b[0;34m)\u001b[0m\u001b[0;34m:\u001b[0m\u001b[0;34m\u001b[0m\u001b[0;34m\u001b[0m\u001b[0m\n\u001b[1;32m      4\u001b[0m     \u001b[0mprint\u001b[0m\u001b[0;34m(\u001b[0m\u001b[0;34m'EL numero debe ser positivo'\u001b[0m\u001b[0;34m)\u001b[0m\u001b[0;34m\u001b[0m\u001b[0;34m\u001b[0m\u001b[0m\n\u001b[1;32m      5\u001b[0m \u001b[0;32melse\u001b[0m\u001b[0;34m:\u001b[0m\u001b[0;34m\u001b[0m\u001b[0;34m\u001b[0m\u001b[0m\n",
            "\u001b[0;32m/usr/local/lib/python3.11/dist-packages/ipykernel/kernelbase.py\u001b[0m in \u001b[0;36mraw_input\u001b[0;34m(self, prompt)\u001b[0m\n\u001b[1;32m    849\u001b[0m                 \u001b[0;34m\"raw_input was called, but this frontend does not support input requests.\"\u001b[0m\u001b[0;34m\u001b[0m\u001b[0;34m\u001b[0m\u001b[0m\n\u001b[1;32m    850\u001b[0m             )\n\u001b[0;32m--> 851\u001b[0;31m         return self._input_request(str(prompt),\n\u001b[0m\u001b[1;32m    852\u001b[0m             \u001b[0mself\u001b[0m\u001b[0;34m.\u001b[0m\u001b[0m_parent_ident\u001b[0m\u001b[0;34m,\u001b[0m\u001b[0;34m\u001b[0m\u001b[0;34m\u001b[0m\u001b[0m\n\u001b[1;32m    853\u001b[0m             \u001b[0mself\u001b[0m\u001b[0;34m.\u001b[0m\u001b[0m_parent_header\u001b[0m\u001b[0;34m,\u001b[0m\u001b[0;34m\u001b[0m\u001b[0;34m\u001b[0m\u001b[0m\n",
            "\u001b[0;32m/usr/local/lib/python3.11/dist-packages/ipykernel/kernelbase.py\u001b[0m in \u001b[0;36m_input_request\u001b[0;34m(self, prompt, ident, parent, password)\u001b[0m\n\u001b[1;32m    893\u001b[0m             \u001b[0;32mexcept\u001b[0m \u001b[0mKeyboardInterrupt\u001b[0m\u001b[0;34m:\u001b[0m\u001b[0;34m\u001b[0m\u001b[0;34m\u001b[0m\u001b[0m\n\u001b[1;32m    894\u001b[0m                 \u001b[0;31m# re-raise KeyboardInterrupt, to truncate traceback\u001b[0m\u001b[0;34m\u001b[0m\u001b[0;34m\u001b[0m\u001b[0m\n\u001b[0;32m--> 895\u001b[0;31m                 \u001b[0;32mraise\u001b[0m \u001b[0mKeyboardInterrupt\u001b[0m\u001b[0;34m(\u001b[0m\u001b[0;34m\"Interrupted by user\"\u001b[0m\u001b[0;34m)\u001b[0m \u001b[0;32mfrom\u001b[0m \u001b[0;32mNone\u001b[0m\u001b[0;34m\u001b[0m\u001b[0;34m\u001b[0m\u001b[0m\n\u001b[0m\u001b[1;32m    896\u001b[0m             \u001b[0;32mexcept\u001b[0m \u001b[0mException\u001b[0m \u001b[0;32mas\u001b[0m \u001b[0me\u001b[0m\u001b[0;34m:\u001b[0m\u001b[0;34m\u001b[0m\u001b[0;34m\u001b[0m\u001b[0m\n\u001b[1;32m    897\u001b[0m                 \u001b[0mself\u001b[0m\u001b[0;34m.\u001b[0m\u001b[0mlog\u001b[0m\u001b[0;34m.\u001b[0m\u001b[0mwarning\u001b[0m\u001b[0;34m(\u001b[0m\u001b[0;34m\"Invalid Message:\"\u001b[0m\u001b[0;34m,\u001b[0m \u001b[0mexc_info\u001b[0m\u001b[0;34m=\u001b[0m\u001b[0;32mTrue\u001b[0m\u001b[0;34m)\u001b[0m\u001b[0;34m\u001b[0m\u001b[0;34m\u001b[0m\u001b[0m\n",
            "\u001b[0;31mKeyboardInterrupt\u001b[0m: Interrupted by user"
          ]
        }
      ]
    },
    {
      "cell_type": "markdown",
      "source": [
        "# Problema 10"
      ],
      "metadata": {
        "id": "krkY6e7DXTHz"
      }
    },
    {
      "cell_type": "code",
      "source": [
        "# Programa para mostrar varias formas de leer y\n",
        "# escribir datos en un archivo de texto.\n",
        "\n",
        "file = open(\"myfile.txt\",\"w\")\n",
        "L = [\"This is Lagos \\n\",\"This is Python \\n\",\"This is Fcc \\n\"]\n",
        "\n",
        "# Asignar [\"This is Lagos \\n\",\"This is Python \\n\",\"This is Fcc \\n\"]\n",
        "# a la variable L\n",
        "\n",
        "  #El \\n se coloca para indicar fin de línea\n",
        "\n",
        "file.write(\"Hello There \\n\")\n",
        "file.writelines(L)\n",
        "file.close()\n",
        "  # Usar close() para cambiar los modos de acceso a archivos\n",
        "\n",
        "\n",
        "\n",
        "file = open(\"myfile.txt\",\"r+\")\n",
        "print(\"Output of the Read function is \")\n",
        "print(file.read())\n",
        "print()\n",
        "\n",
        "  # La función seek(n) Mueve el puntero hacia el byte indicado,\n",
        "  # el byte desde el principio.\n",
        "file.seek(0)\n",
        "\n",
        "print( \"The output of the Readline function is \")\n",
        "print(file.readline())\n",
        "print()\n",
        "\n",
        "file.seek(0)\n",
        "\n",
        "        # Mostrar la diferencia entre lectura y línea de lectura\n",
        "\n",
        "print(\"Output of Read(12) function is \")\n",
        "print(file.read(12))\n",
        "print()\n",
        "\n",
        "file.seek(0)\n",
        "\n",
        "print(\"Output of Readline(8) function is \")\n",
        "print(file.readline(8))\n",
        "\n",
        "file.seek(0)\n",
        "            # Función de lectura de líneas\n",
        "print(\"Output of Readlines function is \")\n",
        "print(file.readlines())\n",
        "print()\n",
        "file.close()"
      ],
      "metadata": {
        "colab": {
          "base_uri": "https://localhost:8080/"
        },
        "id": "3r5ZP9W6YbIy",
        "outputId": "5f25c27d-2005-4da8-9b45-37302687ccd9"
      },
      "execution_count": 92,
      "outputs": [
        {
          "output_type": "stream",
          "name": "stdout",
          "text": [
            "Output of the Read function is \n",
            "Hello There \n",
            "This is Lagos \n",
            "This is Python \n",
            "This is Fcc \n",
            "\n",
            "\n",
            "The output of the Readline function is \n",
            "Hello There \n",
            "\n",
            "\n",
            "Output of Read(12) function is \n",
            "Hello There \n",
            "\n",
            "Output of Readline(8) function is \n",
            "Hello Th\n",
            "Output of Readlines function is \n",
            "['Hello There \\n', 'This is Lagos \\n', 'This is Python \\n', 'This is Fcc \\n']\n",
            "\n"
          ]
        }
      ]
    }
  ]
}