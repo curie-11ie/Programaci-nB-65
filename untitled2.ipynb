{
  "nbformat": 4,
  "nbformat_minor": 0,
  "metadata": {
    "colab": {
      "provenance": [],
      "toc_visible": true,
      "authorship_tag": "ABX9TyML4jppUMas8JRJLYi+E68+",
      "include_colab_link": true
    },
    "kernelspec": {
      "name": "python3",
      "display_name": "Python 3"
    },
    "language_info": {
      "name": "python"
    }
  },
  "cells": [
    {
      "cell_type": "markdown",
      "metadata": {
        "id": "view-in-github",
        "colab_type": "text"
      },
      "source": [
        "<a href=\"https://colab.research.google.com/github/curie-11ie/Programaci-nB-65/blob/main/untitled2.ipynb\" target=\"_parent\"><img src=\"https://colab.research.google.com/assets/colab-badge.svg\" alt=\"Open In Colab\"/></a>"
      ]
    },
    {
      "cell_type": "markdown",
      "source": [
        "# Problema 1"
      ],
      "metadata": {
        "id": "RnwzVJPd0B1D"
      }
    },
    {
      "cell_type": "code",
      "source": [
        "defdeterminar_signo(numero):\n",
        "    Determina si un numero es positivo, negativo o cero.\n",
        "Args:\n",
        "    numero: El numero a evaluar.\n",
        "    Returns:\n",
        "    Una cadena indicando si el numero es \"positivo\", \"negativo\" o \"cero\".\n",
        "      if numero > 0:\n",
        "    return \"positivo\"elif numero < 0:\n",
        "    return \"negativo\"else:\n",
        "    return \"cero\""
      ],
      "metadata": {
        "colab": {
          "base_uri": "https://localhost:8080/",
          "height": 106
        },
        "id": "TcwGk-6p8WNs",
        "outputId": "c3059f97-4f78-4ab2-ed09-867c2c447da4"
      },
      "execution_count": null,
      "outputs": [
        {
          "output_type": "error",
          "ename": "SyntaxError",
          "evalue": "invalid syntax (<ipython-input-24-130ee5092941>, line 1)",
          "traceback": [
            "\u001b[0;36m  File \u001b[0;32m\"<ipython-input-24-130ee5092941>\"\u001b[0;36m, line \u001b[0;32m1\u001b[0m\n\u001b[0;31m    defdeterminar_signo(numero):\u001b[0m\n\u001b[0m                               ^\u001b[0m\n\u001b[0;31mSyntaxError\u001b[0m\u001b[0;31m:\u001b[0m invalid syntax\n"
          ]
        }
      ]
    },
    {
      "cell_type": "markdown",
      "source": [
        "# Problema 2"
      ],
      "metadata": {
        "id": "77F2Zn440Gx8"
      }
    },
    {
      "cell_type": "code",
      "source": [
        "numero_str=input(\"Ingrese un número:\")\n",
        "try:\n",
        "  numero=int(numero_str)\n",
        "  if numero % 2 == 0:\n",
        "    print(f\"El numero {numero}es par.\")\n",
        "    else:\n",
        "      print()"
      ],
      "metadata": {
        "id": "R-pAwolB_6m5"
      },
      "execution_count": null,
      "outputs": []
    },
    {
      "cell_type": "markdown",
      "source": [
        "# Problema 3"
      ],
      "metadata": {
        "id": "Yn2FRlNC0K_F"
      }
    },
    {
      "cell_type": "markdown",
      "source": [
        "# Problema 4"
      ],
      "metadata": {
        "id": "qwvERu_L0x0E"
      }
    },
    {
      "cell_type": "markdown",
      "source": [
        "# Problema 5"
      ],
      "metadata": {
        "id": "2NBR334P4Qtl"
      }
    },
    {
      "cell_type": "markdown",
      "source": [
        "# Problema 6"
      ],
      "metadata": {
        "id": "WVKE2i474ZgP"
      }
    },
    {
      "cell_type": "markdown",
      "source": [
        "# Problema 7"
      ],
      "metadata": {
        "id": "QfyweMhW4cps"
      }
    },
    {
      "cell_type": "markdown",
      "source": [
        "# Problema 8"
      ],
      "metadata": {
        "id": "xHaaeZPE4f2b"
      }
    },
    {
      "cell_type": "markdown",
      "source": [
        "# Problema 9"
      ],
      "metadata": {
        "id": "4BgT0OsI4jyC"
      }
    },
    {
      "cell_type": "markdown",
      "source": [
        "# Problema 10"
      ],
      "metadata": {
        "id": "G50wQFcB4na9"
      }
    },
    {
      "cell_type": "markdown",
      "source": [
        "# Problema 11"
      ],
      "metadata": {
        "id": "YvE265qP4q5M"
      }
    },
    {
      "cell_type": "markdown",
      "source": [
        "# Problema 12"
      ],
      "metadata": {
        "id": "mqYywfJP4v_b"
      }
    },
    {
      "cell_type": "markdown",
      "source": [],
      "metadata": {
        "id": "-lUHmrgH47M6"
      }
    },
    {
      "cell_type": "markdown",
      "source": [
        "# Problema 13"
      ],
      "metadata": {
        "id": "-yJHURcX4zI8"
      }
    },
    {
      "cell_type": "markdown",
      "source": [
        "# Problema 14"
      ],
      "metadata": {
        "id": "rHdgBf9Z44F-"
      }
    }
  ]
}